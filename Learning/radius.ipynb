{
 "cells": [
  {
   "cell_type": "code",
   "execution_count": 1,
   "metadata": {},
   "outputs": [],
   "source": [
    "import numpy as np"
   ]
  },
  {
   "cell_type": "code",
   "execution_count": 10,
   "metadata": {},
   "outputs": [
    {
     "data": {
      "text/plain": [
       "array([-1. , -0.5,  0. ,  0.5,  1. ])"
      ]
     },
     "execution_count": 10,
     "metadata": {},
     "output_type": "execute_result"
    }
   ],
   "source": [
    "x"
   ]
  },
  {
   "cell_type": "code",
   "execution_count": 11,
   "metadata": {},
   "outputs": [
    {
     "name": "stdout",
     "output_type": "stream",
     "text": [
      "[[-2.    -0.625  0.     0.625  2.   ]\n",
      " [-1.25  -0.25   0.     0.25   1.25 ]\n",
      " [-1.    -0.125  0.     0.125  1.   ]\n",
      " [-1.25  -0.25   0.     0.25   1.25 ]\n",
      " [-2.    -0.625  0.     0.625  2.   ]]\n"
     ]
    }
   ],
   "source": [
    "x = np.linspace(-1, 1, 5)\n",
    "y = np.linspace(-1, 1, 5)\n",
    "\n",
    "xx, yy = np.meshgrid(x, y)\n",
    "\n",
    "zz = xx ** 2 + yy ** 2\n",
    "\n",
    "print(zz * xx)"
   ]
  }
 ],
 "metadata": {
  "kernelspec": {
   "display_name": "wsl_qpi",
   "language": "python",
   "name": "wsl_qpi"
  },
  "language_info": {
   "codemirror_mode": {
    "name": "ipython",
    "version": 3
   },
   "file_extension": ".py",
   "mimetype": "text/x-python",
   "name": "python",
   "nbconvert_exporter": "python",
   "pygments_lexer": "ipython3",
   "version": "3.12.4"
  }
 },
 "nbformat": 4,
 "nbformat_minor": 2
}
