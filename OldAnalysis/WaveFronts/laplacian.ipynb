{
 "cells": [
  {
   "cell_type": "code",
   "execution_count": 15,
   "metadata": {},
   "outputs": [],
   "source": [
    "import cv2"
   ]
  },
  {
   "cell_type": "code",
   "execution_count": 16,
   "metadata": {},
   "outputs": [],
   "source": [
    "def detect_edges(img):\n",
    "  img_gray = cv2.cvtColor(img, cv2.COLOR_BGR2GRAY)\n",
    "  laplacian = cv2.Laplacian(src=img_gray, ddepth=cv2.CV_64F, ksize=7)\n",
    "\n",
    "  return laplacian"
   ]
  },
  {
   "cell_type": "code",
   "execution_count": 20,
   "metadata": {},
   "outputs": [
    {
     "data": {
      "text/plain": [
       "True"
      ]
     },
     "execution_count": 20,
     "metadata": {},
     "output_type": "execute_result"
    }
   ],
   "source": [
    "img = cv2.imread(r'imgs\\195\\rspace03.jpg')\n",
    "dis = detect_edges(img)\n",
    "cv2.imwrite(r\"imgs\\195\\laplace03.jpg\", dis)"
   ]
  }
 ],
 "metadata": {
  "kernelspec": {
   "display_name": "qpi",
   "language": "python",
   "name": "python3"
  },
  "language_info": {
   "codemirror_mode": {
    "name": "ipython",
    "version": 3
   },
   "file_extension": ".py",
   "mimetype": "text/x-python",
   "name": "python",
   "nbconvert_exporter": "python",
   "pygments_lexer": "ipython3",
   "version": "3.12.4"
  }
 },
 "nbformat": 4,
 "nbformat_minor": 2
}
